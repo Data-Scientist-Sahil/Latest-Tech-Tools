{
 "cells": [
  {
   "cell_type": "markdown",
   "metadata": {},
   "source": [
    "### Introduction \n",
    "Me and my family want to buy a fridge but we are unable to make the decision given there are so many options and there are so much information on each product type , so though we could go ahead and create this product to help my family come to a conclusion in an hour."
   ]
  },
  {
   "cell_type": "code",
   "execution_count": 1,
   "metadata": {},
   "outputs": [
    {
     "name": "stderr",
     "output_type": "stream",
     "text": [
      "/Users/sahilchavan/Library/Python/3.9/lib/python/site-packages/urllib3/__init__.py:34: NotOpenSSLWarning: urllib3 v2.0 only supports OpenSSL 1.1.1+, currently the 'ssl' module is compiled with 'LibreSSL 2.8.3'. See: https://github.com/urllib3/urllib3/issues/3020\n",
      "  warnings.warn(\n"
     ]
    }
   ],
   "source": [
    "#Imports are here , double tap to uncollapse\n",
    "import requests\n",
    "from pydantic import BaseModel"
   ]
  },
  {
   "cell_type": "code",
   "execution_count": 10,
   "metadata": {},
   "outputs": [],
   "source": [
    "#Classes defined here to enforce the schema of the data generation.\n",
    "\n",
    "class Dimensions(BaseModel):\n",
    "    height: float\n",
    "    width: float\n",
    "    depth: float\n",
    "    weight: float\n",
    "\n",
    "class Fridge(BaseModel):\n",
    "    product_name: str\n",
    "    ratings: str\n",
    "    launch_year: int\n",
    "    sentiment_score: int\n",
    "    negative_sentiment:str\n",
    "    positive_sentiment:str\n",
    "    brand_name:str\n",
    "    Digital_Inverter_Compressor:str\n",
    "    emi_price:int\n",
    "    delivery_date:str\n",
    "    discounts:list[str]\n",
    "    Refrigerator_Type:str\n",
    "    Capacity:int\n",
    "    Number_of_Doors:int\n",
    "    Temperature_Control:bool\n",
    "    Egg_Tray:bool\n",
    "    dimmensions: Dimensions\n",
    "\n"
   ]
  },
  {
   "cell_type": "code",
   "execution_count": 7,
   "metadata": {},
   "outputs": [],
   "source": [
    "#The main prompt and user prompt for the user to enter the data.\n",
    "main_prompt = \"\"\" \n",
    "Assume you are a Electronic Product Reviewer, and you have to review a Fridge. You have to provide the following details:\n",
    "(Below are the parameters explanations) : ->\n",
    "1. Product Name - full name of the product.\n",
    "2. Ratings - Ratings of the product out of 5.\n",
    "3. Launch Year - Year of the product launch.\n",
    "4. Sentiment Score - Sentiment score of the product out of 100.\n",
    "5. Negative Sentiment - Negative sentiment of the product . This is suppose to be a statement.\n",
    "6. Positive Sentiment - Positive sentiment of the product . This is suppose to be a statement.\n",
    "7. Brand Name - Name of the brand.\n",
    "8. Digital Inverter Compressor - Whether the fridge has a digital inverter compressor or not. Its a boolean value.\n",
    "9. EMI Price - EMI price of the product.\n",
    "10. Delivery Date - Expected delivery date.\n",
    "11. Discounts - List of discounts available.\n",
    "12. Refrigerator Type  - Type of the refrigerator.\n",
    "13. Capacity - Capacity of the fridge in Litres . \n",
    "14. Number of Doors - Number of doors in the fridge.\n",
    "15. Temperature Control - Whether the fridge has temperature control or not. Its a boolean value.\n",
    "16. Egg Tray  - Whether the fridge has an egg tray or not. Its a boolean value.\n",
    "17. Dimensions - Dimensions of the fridge. It is a dictionary with keys height, width, depth and weight.\n",
    "\n",
    "\"\"\"\n",
    "\n",
    "user_prompt = \"\"\" \n",
    "This is the name of the fridge you are reviewing: {}\n",
    "\"\"\""
   ]
  },
  {
   "cell_type": "code",
   "execution_count": 8,
   "metadata": {},
   "outputs": [],
   "source": [
    "#authentication and client setup\n",
    "url = \"https://api.perplexity.ai/chat/completions\"\n",
    "headers = {\"Authorization\": \"Bearer YOUR_API_KEY\"}"
   ]
  },
  {
   "cell_type": "code",
   "execution_count": null,
   "metadata": {},
   "outputs": [],
   "source": [
    "#the whole payload is defined here and the print statement is used to print the json schema\n",
    "payload = {\n",
    "    \"model\": \"sonar\",\n",
    "    \"messages\": [\n",
    "        {\"role\": \"system\", \"content\": main_prompt},\n",
    "        {\"role\": \"user\", \"content\": user_prompt.format(\"Samsung 192 L 4 Star Inverter Direct Cool Single Door Refrigerator\")},\n",
    "    ],\n",
    "    \"response_format\": {\n",
    "            \"type\": \"json_schema\",\n",
    "        \"json_schema\": {\"schema\": Fridge.model_json_schema()},\n",
    "    },\n",
    "}\n",
    "response = requests.post(url, headers=headers, json=payload).json()\n",
    "print(response[\"choices\"][0][\"message\"][\"content\"])"
   ]
  },
  {
   "cell_type": "code",
   "execution_count": null,
   "metadata": {},
   "outputs": [],
   "source": [
    "# you can understand the citations here as well .\n",
    "response"
   ]
  },
  {
   "cell_type": "code",
   "execution_count": null,
   "metadata": {},
   "outputs": [],
   "source": [
    "#this payload can be run over the loop to get the data and then stored in a dataframe and\n",
    "#the an EDA can be done to understand which fridge to buy based on the reviews and other decision making factors."
   ]
  },
  {
   "cell_type": "markdown",
   "metadata": {},
   "source": [
    "### Pseudocode\n",
    "products = list of all the products to review\n",
    "\n",
    "create a for loop with i as the product from the list products:\n",
    "payload = {messages : user_prompt.format(i)}\n",
    "response formatted for getting the schema.\n",
    "use regex -> re.sub(r'json\\s*```|```', '', response[\"choices\"][0][\"message\"][\"content\"])\n",
    "\n",
    "and then store this into a dictionary -> dict(regex)\n",
    "and then into a dataframe using an appended dictionary of all the products outside the for loop\n"
   ]
  },
  {
   "cell_type": "markdown",
   "metadata": {},
   "source": []
  }
 ],
 "metadata": {
  "kernelspec": {
   "display_name": "Python 3",
   "language": "python",
   "name": "python3"
  },
  "language_info": {
   "codemirror_mode": {
    "name": "ipython",
    "version": 3
   },
   "file_extension": ".py",
   "mimetype": "text/x-python",
   "name": "python",
   "nbconvert_exporter": "python",
   "pygments_lexer": "ipython3",
   "version": "3.9.6"
  }
 },
 "nbformat": 4,
 "nbformat_minor": 2
}
